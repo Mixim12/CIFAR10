{
 "cells": [
  {
   "cell_type": "code",
   "execution_count": 37,
   "metadata": {},
   "outputs": [],
   "source": [
    "import torch\n",
    "import torch.nn as nn\n",
    "import torch.nn.functional as F\n",
    "import torch.optim as optim\n",
    "import torchvision\n",
    "import matplotlib.pyplot as plt"
   ]
  },
  {
   "cell_type": "code",
   "execution_count": 38,
   "metadata": {},
   "outputs": [],
   "source": [
    "device = torch.device(\"cuda:0\" if torch.cuda.is_available() else \"cpu\")\n",
    "classes = ('plane', 'car', 'bird', 'cat',\n",
    "           'deer', 'dog', 'frog', 'horse', 'ship', 'truck')"
   ]
  },
  {
   "cell_type": "code",
   "execution_count": 39,
   "metadata": {},
   "outputs": [
    {
     "name": "stdout",
     "output_type": "stream",
     "text": [
      "Files already downloaded and verified\n",
      "Files already downloaded and verified\n"
     ]
    }
   ],
   "source": [
    "path = 'CIFAR10/'\n",
    "cifar10 = torchvision.datasets.CIFAR10(\n",
    "    path, train=True, download=True, transform=torchvision.transforms.ToTensor())\n",
    "cifar10_val = torchvision.datasets.CIFAR10(\n",
    "    path, train=False, download=True, transform=torchvision.transforms.ToTensor())\n"
   ]
  },
  {
   "cell_type": "code",
   "execution_count": 40,
   "metadata": {},
   "outputs": [],
   "source": [
    "# imgs = torch.stack([img_t for img_t, _ in cifar10], dim=3)\n",
    "# print(imgs.view(3, -1).mean(dim=1))\n",
    "# print(imgs.view(3, -1).std(dim=1))"
   ]
  },
  {
   "cell_type": "code",
   "execution_count": 41,
   "metadata": {},
   "outputs": [],
   "source": [
    "transform = torchvision.transforms.Compose([\n",
    "    torchvision.transforms.ToTensor(),\n",
    "    torchvision.transforms.Normalize([0.4914, 0.4822, 0.4465], [0.2470, 0.2435, 0.2616])])\n"
   ]
  },
  {
   "cell_type": "code",
   "execution_count": 42,
   "metadata": {},
   "outputs": [
    {
     "name": "stdout",
     "output_type": "stream",
     "text": [
      "Files already downloaded and verified\n",
      "Files already downloaded and verified\n"
     ]
    }
   ],
   "source": [
    "cifar10 = torchvision.datasets.CIFAR10(path, train=True, download=True, transform=transform)\n",
    "cifar10_val = torchvision.datasets.CIFAR10(path, train=False, download=True, transform=transform)"
   ]
  },
  {
   "cell_type": "code",
   "execution_count": 43,
   "metadata": {},
   "outputs": [],
   "source": [
    "train_loader = torch.utils.data.DataLoader(\n",
    "    cifar10, batch_size=4, shuffle=True)\n",
    "val_loader = torch.utils.data.DataLoader(\n",
    "    cifar10_val, batch_size=4, shuffle=False)\n"
   ]
  },
  {
   "cell_type": "code",
   "execution_count": 44,
   "metadata": {},
   "outputs": [],
   "source": [
    "class Net(nn.Module):\n",
    "    def __init__(self, n_chansl=32):\n",
    "        super().__init__()\n",
    "        self.conv1 = nn.Conv2d(3, n_chansl, 3, padding=1)\n",
    "        self.conv2 = nn.Conv2d(n_chansl, 8, 3, padding=1)\n",
    "        self.fc1 = nn.Linear(8 * 8 * 8, 32)\n",
    "        self.fc2 = nn.Linear(32, 10)\n",
    "        self.pool = nn.MaxPool2d(2, 2)\n",
    "        \n",
    "        \n",
    "    def forward(self, x):\n",
    "        out = self.pool(F.relu(self.conv1(x)))\n",
    "        out = F.max_pool2d(F.relu(self.conv2(out)), 2)     \n",
    "        out = torch.flatten(out,1)\n",
    "        out = F.tanh(self.fc1(out))\n",
    "        out = self.fc2(out)\n",
    "        return out\n",
    "       "
   ]
  },
  {
   "cell_type": "code",
   "execution_count": 45,
   "metadata": {},
   "outputs": [],
   "source": [
    "def training_loop(n_epochs, optimizer, model, loss_fn, train_loader):\n",
    "    for epoch in range(1, n_epochs+1):\n",
    "        loss_train = 0.0\n",
    "\n",
    "        for imgs, labels in train_loader:\n",
    "            imgs = imgs.to(device=device)\n",
    "            labels = labels.to(device=device)\n",
    "            output = model(imgs)\n",
    "            loss = loss_fn(output, labels)\n",
    "           \n",
    "            optimizer.zero_grad()\n",
    "            loss.backward()\n",
    "            optimizer.step()\n",
    "\n",
    "            loss_train += loss.item()\n",
    "\n",
    "        print('Epoch {}, Training loss {}'.format(epoch, loss_train / len(train_loader)))\n"
   ]
  },
  {
   "cell_type": "code",
   "execution_count": 46,
   "metadata": {},
   "outputs": [
    {
     "name": "stdout",
     "output_type": "stream",
     "text": [
      "cuda:0\n"
     ]
    }
   ],
   "source": [
    "print(device)"
   ]
  },
  {
   "cell_type": "code",
   "execution_count": 47,
   "metadata": {},
   "outputs": [
    {
     "name": "stdout",
     "output_type": "stream",
     "text": [
      "Epoch 1, Training loss 1.9313961649370193\n",
      "Epoch 2, Training loss 1.5170884510350227\n",
      "Epoch 3, Training loss 1.3638952237653732\n",
      "Epoch 4, Training loss 1.2825539254432916\n",
      "Epoch 5, Training loss 1.2222682726973295\n",
      "Epoch 6, Training loss 1.1707663585448265\n",
      "Epoch 7, Training loss 1.1248904776847362\n",
      "Epoch 8, Training loss 1.083048212696314\n",
      "Epoch 9, Training loss 1.0473564355558156\n",
      "Epoch 10, Training loss 1.015079094157517\n",
      "Epoch 11, Training loss 0.987778960993588\n",
      "Epoch 12, Training loss 0.9665649177721143\n",
      "Epoch 13, Training loss 0.9455823282226921\n",
      "Epoch 14, Training loss 0.930029220340997\n",
      "Epoch 15, Training loss 0.9151581468251347\n",
      "Epoch 16, Training loss 0.9017299544516206\n",
      "Epoch 17, Training loss 0.8908622128425538\n",
      "Epoch 18, Training loss 0.8792849678631127\n",
      "Epoch 19, Training loss 0.8678880205041171\n",
      "Epoch 20, Training loss 0.8591948400755227\n",
      "Epoch 21, Training loss 0.8487216512706875\n",
      "Epoch 22, Training loss 0.8415119955779612\n",
      "Epoch 23, Training loss 0.831757701061666\n",
      "Epoch 24, Training loss 0.8241821911561489\n",
      "Epoch 25, Training loss 0.8156511877946555\n",
      "Epoch 26, Training loss 0.8099452464185655\n",
      "Epoch 27, Training loss 0.8004320374623686\n",
      "Epoch 28, Training loss 0.7961787260950357\n",
      "Epoch 29, Training loss 0.7887312359397859\n",
      "Epoch 30, Training loss 0.7818952563659847\n",
      "Epoch 31, Training loss 0.7764204564893619\n",
      "Epoch 32, Training loss 0.7715384654396772\n",
      "Epoch 33, Training loss 0.7651751805930957\n",
      "Epoch 34, Training loss 0.7603867559916153\n",
      "Epoch 35, Training loss 0.7548464705982805\n",
      "Epoch 36, Training loss 0.7501264311673492\n",
      "Epoch 37, Training loss 0.7451144332036004\n",
      "Epoch 38, Training loss 0.741420276100114\n",
      "Epoch 39, Training loss 0.7367494110591709\n",
      "Epoch 40, Training loss 0.7315374086824059\n",
      "Epoch 41, Training loss 0.7259477518803998\n",
      "Epoch 42, Training loss 0.7234995616251603\n",
      "Epoch 43, Training loss 0.7197392083337903\n",
      "Epoch 44, Training loss 0.7150500887339563\n",
      "Epoch 45, Training loss 0.7114367429020256\n",
      "Epoch 46, Training loss 0.7072869324475154\n",
      "Epoch 47, Training loss 0.7034394947032631\n",
      "Epoch 48, Training loss 0.7001653061805666\n",
      "Epoch 49, Training loss 0.6970818598566949\n",
      "Epoch 50, Training loss 0.6932308977050706\n",
      "Epoch 51, Training loss 0.6883460585639999\n",
      "Epoch 52, Training loss 0.6860605394072086\n",
      "Epoch 53, Training loss 0.6815001485133916\n",
      "Epoch 54, Training loss 0.6797828188144043\n",
      "Epoch 55, Training loss 0.6758613639711588\n",
      "Epoch 56, Training loss 0.6735031031190604\n",
      "Epoch 57, Training loss 0.66869013597738\n",
      "Epoch 58, Training loss 0.6686766115932912\n",
      "Epoch 59, Training loss 0.6644946855108254\n",
      "Epoch 60, Training loss 0.6617388445661124\n",
      "Epoch 61, Training loss 0.6574647134615108\n",
      "Epoch 62, Training loss 0.6541858527735248\n",
      "Epoch 63, Training loss 0.6547291007871926\n",
      "Epoch 64, Training loss 0.6498391355158761\n",
      "Epoch 65, Training loss 0.6457642756517976\n",
      "Epoch 66, Training loss 0.644616552269049\n",
      "Epoch 67, Training loss 0.6414112946783564\n",
      "Epoch 68, Training loss 0.639148591017425\n",
      "Epoch 69, Training loss 0.6359334729861282\n",
      "Epoch 70, Training loss 0.6333995183997974\n",
      "Epoch 71, Training loss 0.6314904417072237\n",
      "Epoch 72, Training loss 0.6280137810419499\n",
      "Epoch 73, Training loss 0.6276815333785676\n",
      "Epoch 74, Training loss 0.624967796735093\n",
      "Epoch 75, Training loss 0.6225030271742493\n",
      "Epoch 76, Training loss 0.6194283344262466\n",
      "Epoch 77, Training loss 0.6172270150114596\n",
      "Epoch 78, Training loss 0.6158644655065239\n",
      "Epoch 79, Training loss 0.6123292488757893\n",
      "Epoch 80, Training loss 0.6105673001086899\n",
      "Epoch 81, Training loss 0.6074763179112319\n",
      "Epoch 82, Training loss 0.6069821397158317\n",
      "Epoch 83, Training loss 0.6062992236000672\n",
      "Epoch 84, Training loss 0.6019179730600305\n",
      "Epoch 85, Training loss 0.6017579013572261\n",
      "Epoch 86, Training loss 0.5990450018321164\n",
      "Epoch 87, Training loss 0.5981111975286435\n",
      "Epoch 88, Training loss 0.59747690594377\n",
      "Epoch 89, Training loss 0.5941661786333844\n",
      "Epoch 90, Training loss 0.5923778298652544\n",
      "Epoch 91, Training loss 0.5897170381939225\n",
      "Epoch 92, Training loss 0.5881864225161542\n",
      "Epoch 93, Training loss 0.5874109636496939\n",
      "Epoch 94, Training loss 0.5849462515352294\n",
      "Epoch 95, Training loss 0.5861080246127024\n",
      "Epoch 96, Training loss 0.5806000859783124\n",
      "Epoch 97, Training loss 0.5803635455189645\n",
      "Epoch 98, Training loss 0.5807568739447929\n",
      "Epoch 99, Training loss 0.5770736859625019\n",
      "Epoch 100, Training loss 0.5761496619496121\n"
     ]
    }
   ],
   "source": [
    "model = Net().to(device=device)\n",
    "optimizer = optim.SGD(model.parameters(), lr=1e-3)\n",
    "loss_fn = nn.CrossEntropyLoss()\n",
    "\n",
    "training_loop(100, optimizer, model, loss_fn, train_loader)\n"
   ]
  },
  {
   "cell_type": "code",
   "execution_count": 48,
   "metadata": {},
   "outputs": [
    {
     "name": "stdout",
     "output_type": "stream",
     "text": [
      "Accuracy train: 0.80\n",
      "Accuracy val: 0.63\n"
     ]
    }
   ],
   "source": [
    "def validate(model, train_loader, val_loader):\n",
    "    for name, loader in [(\"train\", train_loader), (\"val\", val_loader)]:\n",
    "        correct = 0\n",
    "        total = 0\n",
    "\n",
    "        with torch.no_grad():  \n",
    "            for imgs, labels in loader:\n",
    "                imgs = imgs.to(device=device)\n",
    "                labels = labels.to(device=device)\n",
    "                outputs = model(imgs)\n",
    "                _, predicted = torch.max(outputs, dim=1) \n",
    "                total += labels.shape[0] \n",
    "                correct += int((predicted == labels).sum()) \n",
    "\n",
    "        print(\"Accuracy {}: {:.2f}\".format(name , correct / total))\n",
    "\n",
    "validate(model, train_loader, val_loader)"
   ]
  }
 ],
 "metadata": {
  "kernelspec": {
   "display_name": "Python 3",
   "language": "python",
   "name": "python3"
  },
  "language_info": {
   "codemirror_mode": {
    "name": "ipython",
    "version": 3
   },
   "file_extension": ".py",
   "mimetype": "text/x-python",
   "name": "python",
   "nbconvert_exporter": "python",
   "pygments_lexer": "ipython3",
   "version": "3.11.2"
  },
  "orig_nbformat": 4
 },
 "nbformat": 4,
 "nbformat_minor": 2
}
